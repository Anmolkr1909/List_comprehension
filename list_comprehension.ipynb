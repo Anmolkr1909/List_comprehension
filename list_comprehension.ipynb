{
  "nbformat": 4,
  "nbformat_minor": 0,
  "metadata": {
    "colab": {
      "provenance": [],
      "include_colab_link": true
    },
    "kernelspec": {
      "name": "python3",
      "display_name": "Python 3"
    },
    "language_info": {
      "name": "python"
    }
  },
  "cells": [
    {
      "cell_type": "markdown",
      "metadata": {
        "id": "view-in-github",
        "colab_type": "text"
      },
      "source": [
        "<a href=\"https://colab.research.google.com/github/Anmolkr1909/List_comprehension/blob/main/list_comprehension.ipynb\" target=\"_parent\"><img src=\"https://colab.research.google.com/assets/colab-badge.svg\" alt=\"Open In Colab\"/></a>"
      ]
    },
    {
      "cell_type": "markdown",
      "source": [
        "# List Comprehension\n",
        "\n",
        "---\n",
        "\n",
        "\n",
        "\n",
        "---\n",
        "\n",
        "\n",
        "\n",
        "\n"
      ],
      "metadata": {
        "id": "xLRVigG45WkT"
      }
    },
    {
      "cell_type": "markdown",
      "source": [
        "78) Student Pass/Fail Checker\n",
        "*   You have a list of student marks. Check who passed (marks ≥ 40)\n"
      ],
      "metadata": {
        "id": "RFlW5Pc-6onm"
      }
    },
    {
      "cell_type": "code",
      "source": [
        "marks = [25, 67, 89, 38, 49, 10]\n",
        "pass_status = [\"Pass\" if mark >= 40 else \"Fail\" for mark in marks]\n",
        "\n",
        "print(pass_status)\n"
      ],
      "metadata": {
        "colab": {
          "base_uri": "https://localhost:8080/"
        },
        "id": "7-uWH73T7TB4",
        "outputId": "ac8b9514-7511-4112-b052-b22d69565181"
      },
      "execution_count": null,
      "outputs": [
        {
          "output_type": "stream",
          "name": "stdout",
          "text": [
            "['Fail', 'Pass', 'Pass', 'Fail', 'Pass', 'Fail']\n"
          ]
        }
      ]
    },
    {
      "cell_type": "markdown",
      "source": [
        "\n",
        "\n",
        "---\n",
        "\n"
      ],
      "metadata": {
        "id": "1Ma5J06R7b6h"
      }
    },
    {
      "cell_type": "markdown",
      "source": [
        "79)  Email Domain Extractor\n",
        "*  From a list of emails, extract only the domain part (like gmail.com)"
      ],
      "metadata": {
        "id": "kljyoa787djQ"
      }
    },
    {
      "cell_type": "code",
      "source": [
        "emails = [\"anmol@gmail.com\", \"neha@yahoo.com\", \"zoya@outlook.com\"]\n",
        "domains = [email.split(\"@\")[1] for email in emails]\n",
        "\n",
        "print(domains)\n"
      ],
      "metadata": {
        "colab": {
          "base_uri": "https://localhost:8080/"
        },
        "id": "ydRKOEQD8jC_",
        "outputId": "206e2e65-3daf-404c-8ef1-d82be5190159"
      },
      "execution_count": null,
      "outputs": [
        {
          "output_type": "stream",
          "name": "stdout",
          "text": [
            "['gmail.com', 'yahoo.com', 'outlook.com']\n"
          ]
        }
      ]
    },
    {
      "cell_type": "markdown",
      "source": [
        "\n",
        "\n",
        "---\n",
        "\n"
      ],
      "metadata": {
        "id": "IFy6bUlt8yTw"
      }
    },
    {
      "cell_type": "markdown",
      "source": [
        "80) Temperature Conversion\n",
        "* Convert Celsius temperatures to Fahrenheit"
      ],
      "metadata": {
        "id": "S7ZfSmEW8z4h"
      }
    },
    {
      "cell_type": "code",
      "source": [
        "celsius = [0, 20, 35, 40]\n",
        "fahrenheit = [((9/5)*temp + 32) for temp in celsius]\n",
        "\n",
        "print(fahrenheit)\n"
      ],
      "metadata": {
        "colab": {
          "base_uri": "https://localhost:8080/"
        },
        "id": "efbs7nE28-SA",
        "outputId": "63acdce5-5a76-44fa-8224-dbd63902f0bb"
      },
      "execution_count": null,
      "outputs": [
        {
          "output_type": "stream",
          "name": "stdout",
          "text": [
            "[32.0, 68.0, 95.0, 104.0]\n"
          ]
        }
      ]
    },
    {
      "cell_type": "markdown",
      "source": [
        "\n",
        "\n",
        "---\n",
        "\n",
        "\n",
        "\n",
        "---\n",
        "\n"
      ],
      "metadata": {
        "id": "UgkwCBP09KFD"
      }
    }
  ]
}